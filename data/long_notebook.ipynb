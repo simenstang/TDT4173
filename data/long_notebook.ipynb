{
 "cells": [
  {
   "cell_type": "code",
   "execution_count": 17,
   "metadata": {},
   "outputs": [],
   "source": [
    "import os\n",
    "import pandas as pd\n",
    "import numpy as np\n",
    "import matplotlib.pylab as plt\n",
    "import xgboost as xgb\n",
    "%matplotlib inline"
   ]
  },
  {
   "cell_type": "code",
   "execution_count": 105,
   "metadata": {},
   "outputs": [],
   "source": [
    "class DataPlotter:\n",
    "    def __init__(self, dataset) -> None:\n",
    "        self.dataset = dataset\n",
    "\n",
    "    def get_all_features_observed(self):\n",
    "        x_train_observed = pd.read_parquet(self.dataset + '/X_train_observed.parquet')\n",
    "        return x_train_observed.columns\n",
    "\n",
    "    def get_all_features_estimated(self):\n",
    "        x_train_estimated = pd.read_parquet(self.dataset + '/X_train_estimated.parquet')\n",
    "        return x_train_estimated.columns\n",
    "    \n",
    "    def get_correlation(self, df,  y_train, x_train, feature):\n",
    "        correlation = df[feature].corr(df['pv_measurement'])\n",
    "        return correlation\n",
    "\n",
    "    \n",
    "    def plot_feature_against_y(self, feature, observed, hour=None, month=None):\n",
    "        if observed:\n",
    "            y_train = pd.read_parquet(self.dataset + '/train_targets.parquet')\n",
    "            x_train = pd.read_parquet(self.dataset + '/X_train_observed.parquet')\n",
    "        else:\n",
    "            y_train = pd.read_parquet(self.dataset + '/train_targets.parquet')\n",
    "            x_train = pd.read_parquet(self.dataset + '/X_train_estimated.parquet')\n",
    "        \n",
    "        # Convert 'time' and 'date_forecast' columns to datetime format\n",
    "        y_train['time'] = pd.to_datetime(y_train['time'])\n",
    "        x_train['date_forecast'] = pd.to_datetime(x_train['date_forecast'])\n",
    "\n",
    "        if hour and month:\n",
    "            print(\"HOUR =\", hour,\"AND MONTH =\", month)\n",
    "            y_train_at_hour_and_month = y_train[\n",
    "                (y_train['time'].dt.hour == hour) & (y_train['time'].dt.month == month)\n",
    "            ]\n",
    "            x_train_at_hour_and_month = x_train[\n",
    "                (x_train['date_forecast'].dt.hour == hour) & (x_train['date_forecast'].dt.month == month)\n",
    "            ]\n",
    "            merged_df = pd.merge(\n",
    "                y_train_at_hour_and_month, x_train_at_hour_and_month,\n",
    "                left_on='time', right_on='date_forecast'\n",
    "            )\n",
    "            print('The correlation is', self.get_correlation(df = merged_df, x_train=x_train_at_hour_and_month, \n",
    "                                                             y_train=y_train_at_hour_and_month, feature=feature))\n",
    "        elif hour and not month:\n",
    "            print(\"HOUR =\", hour)\n",
    "            y_train_at_hour = y_train[y_train['time'].dt.hour == hour]\n",
    "            x_train_at_hour = x_train[x_train['date_forecast'].dt.hour == hour]\n",
    "            merged_df = pd.merge(\n",
    "                y_train_at_hour, x_train_at_hour, left_on='time', right_on='date_forecast'\n",
    "            )\n",
    "            print('The correlation is', self.get_correlation(df = merged_df, x_train=x_train_at_hour, \n",
    "                                                             y_train=y_train_at_hour, feature=feature))\n",
    "        elif month and not hour:\n",
    "            print(\"MONTH =\", month)\n",
    "            y_train_at_month = y_train[y_train['time'].dt.month == month]\n",
    "            x_train_at_month = x_train[x_train['date_forecast'].dt.month == month]\n",
    "            merged_df = pd.merge(\n",
    "                y_train_at_month, x_train_at_month, left_on='time', right_on='date_forecast'\n",
    "            )\n",
    "            print('The correlation is',self.get_correlation(df = merged_df, x_train=x_train_at_month,\n",
    "                                                             y_train=y_train_at_month, feature=feature))\n",
    "        elif not month and not hour:\n",
    "            print(y_train.columns)\n",
    "            merged_df = pd.merge(y_train , x_train, left_on='time', right_on='date_forecast')\n",
    "            print('The correlation is', self.get_correlation(df = merged_df, x_train=x_train,\n",
    "                                                              y_train=y_train, feature=feature))\n",
    "\n",
    "        plt.figure(figsize=(8, 5))\n",
    "        plt.scatter(merged_df[feature], merged_df['pv_measurement'], alpha=1)\n",
    "        plt.xlabel(feature)\n",
    "        plt.ylabel('PV Measurement')\n",
    "        plt.title(feature + ' vs PV Measurement')\n",
    "        plt.grid(True)\n",
    "        plt.show()\n",
    "    \n",
    "    def plot_feature_analysis(self, observed, feature=None, hour=None, month=None):\n",
    "        if observed:\n",
    "            if feature:\n",
    "                print(feature + \" FROM OBSERVED DATASET FROM LOCATION \" + self.dataset + \".\")\n",
    "                self.plot_feature_against_y(feature, observed=True, hour=hour, month=month)\n",
    "            else:\n",
    "                print(\"ALL FEATURES PLOTTED FROM OBSERVED DATASET FROM LOCATION \" + self.dataset + \".\")\n",
    "                for feature in self.get_all_features_observed():\n",
    "                    self.plot_feature_against_y(feature, observed=True, hour=hour, month=month)\n",
    "        else:\n",
    "            if feature:\n",
    "                print(feature + \" FROM ESTIMATED DATASET FROM LOCATION \" + self.dataset + \".\")\n",
    "                self.plot_feature_against_y(feature, observed=False, hour=hour, month = month)\n",
    "            else:\n",
    "                print(\"ALL FEATURES PLOTTED FROM ESTIMATED DATASET FROM LOCATION \" + self.dataset + \".\")\n",
    "                for feature in self.get_all_features_estimated():\n",
    "                    self.plot_feature_against_y(feature, observed=False, hour=hour, month = month)"
   ]
  },
  {
   "cell_type": "code",
   "execution_count": 106,
   "metadata": {},
   "outputs": [
    {
     "name": "stdout",
     "output_type": "stream",
     "text": [
      "Index(['date_forecast', 'absolute_humidity_2m:gm3', 'air_density_2m:kgm3',\n",
      "       'ceiling_height_agl:m', 'clear_sky_energy_1h:J', 'clear_sky_rad:W',\n",
      "       'cloud_base_agl:m', 'dew_or_rime:idx', 'dew_point_2m:K',\n",
      "       'diffuse_rad:W', 'diffuse_rad_1h:J', 'direct_rad:W', 'direct_rad_1h:J',\n",
      "       'effective_cloud_cover:p', 'elevation:m', 'fresh_snow_12h:cm',\n",
      "       'fresh_snow_1h:cm', 'fresh_snow_24h:cm', 'fresh_snow_3h:cm',\n",
      "       'fresh_snow_6h:cm', 'is_day:idx', 'is_in_shadow:idx',\n",
      "       'msl_pressure:hPa', 'precip_5min:mm', 'precip_type_5min:idx',\n",
      "       'pressure_100m:hPa', 'pressure_50m:hPa', 'prob_rime:p',\n",
      "       'rain_water:kgm2', 'relative_humidity_1000hPa:p', 'sfc_pressure:hPa',\n",
      "       'snow_density:kgm3', 'snow_depth:cm', 'snow_drift:idx',\n",
      "       'snow_melt_10min:mm', 'snow_water:kgm2', 'sun_azimuth:d',\n",
      "       'sun_elevation:d', 'super_cooled_liquid_water:kgm2', 't_1000hPa:K',\n",
      "       'total_cloud_cover:p', 'visibility:m', 'wind_speed_10m:ms',\n",
      "       'wind_speed_u_10m:ms', 'wind_speed_v_10m:ms',\n",
      "       'wind_speed_w_1000hPa:ms'],\n",
      "      dtype='object')\n"
     ]
    }
   ],
   "source": [
    "# Choose what dataset you want your values from (observed = False gets the estimated dataset).\n",
    "# This will output all features in the dataset\n",
    "\n",
    "dataset = 'C'\n",
    "observed = True\n",
    "\n",
    "plotter = DataPlotter(dataset)\n",
    "\n",
    "if observed: print(plotter.get_all_features_observed())\n",
    "else: print(plotter.get_all_features_estimated())"
   ]
  },
  {
   "cell_type": "code",
   "execution_count": 107,
   "metadata": {},
   "outputs": [
    {
     "name": "stdout",
     "output_type": "stream",
     "text": [
      "effective_cloud_cover:p FROM OBSERVED DATASET FROM LOCATION C.\n",
      "HOUR = 12 AND MONTH = 6\n",
      "The correlation is -0.79344077340405\n"
     ]
    },
    {
     "data": {
      "image/png": "[encoded data removed]",
      "text/plain": [
       "<Figure size 800x500 with 1 Axes>"
      ]
     },
     "metadata": {},
     "output_type": "display_data"
    }
   ],
   "source": [
    "# Spesify hour (example: 12) and/or month (example: 6). Either of them can be None.\n",
    "# Choose your feature. If you spesify 'feauture' to be None, then it will plot for ALL feautures.\n",
    "\n",
    "hour = 12\n",
    "month = 6\n",
    "feature = 'effective_cloud_cover:p'\n",
    "\n",
    "plotter.plot_feature_analysis(observed=observed, feature=feature, hour=hour, month=month)"
   ]
  },
  {
   "cell_type": "code",
   "execution_count": null,
   "metadata": {},
   "outputs": [],
   "source": [
    "# TODO ITERATE THROUGH ALL COMBINATIONS OF MONTHS AND HOURS FOR ALL THREE LOCATIONS AND SORT ON CORRELATION"
   ]
  }
 ],
 "metadata": {
  "kernelspec": {
   "display_name": "sigmoidwarriors",
   "language": "python",
   "name": "sigmoidwarriors"
  },
  "language_info": {
   "codemirror_mode": {
    "name": "ipython",
    "version": 3
   },
   "file_extension": ".py",
   "mimetype": "text/x-python",
   "name": "python",
   "nbconvert_exporter": "python",
   "pygments_lexer": "ipython3",
   "version": "3.10.2"
  },
  "orig_nbformat": 4
 },
 "nbformat": 4,
 "nbformat_minor": 2
}
