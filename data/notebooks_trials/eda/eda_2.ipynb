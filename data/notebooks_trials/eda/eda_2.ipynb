{
 "cells": [
  {
   "cell_type": "code",
   "execution_count": 1,
   "metadata": {},
   "outputs": [],
   "source": [
    "import os\n",
    "import pandas as pd\n",
    "import numpy as np\n",
    "import matplotlib.pylab as plt\n",
    "import xgboost as xgb\n",
    "import math\n",
    "import csv\n",
    "import seaborn as sns\n",
    "plt.style.use('fivethirtyeight')\n",
    "%matplotlib inline"
   ]
  },
  {
   "cell_type": "code",
   "execution_count": 3,
   "metadata": {},
   "outputs": [],
   "source": [
    "train_a = pd.read_parquet('../../A/train_targets.parquet')\n",
    "train_b = pd.read_parquet('../../B/train_targets.parquet')\n",
    "train_c = pd.read_parquet('../../C/train_targets.parquet')\n",
    "\n",
    "X_train_estimated_a = pd.read_parquet('../../A/X_train_estimated.parquet')\n",
    "X_train_estimated_b = pd.read_parquet('../../B/X_train_estimated.parquet')\n",
    "X_train_estimated_c = pd.read_parquet('../../C/X_train_estimated.parquet')\n",
    "\n",
    "X_train_observed_a = pd.read_parquet('../../A/X_train_observed.parquet')\n",
    "X_train_observed_b = pd.read_parquet('../../B/X_train_observed.parquet')\n",
    "X_train_observed_c = pd.read_parquet('../../C/X_train_observed.parquet')\n",
    "\n",
    "X_test_estimated_a = pd.read_parquet('../../A/X_test_estimated.parquet')\n",
    "X_test_estimated_b = pd.read_parquet('../../B/X_test_estimated.parquet')\n",
    "X_test_estimated_c = pd.read_parquet('../../C/X_test_estimated.parquet')"
   ]
  },
  {
   "cell_type": "code",
   "execution_count": 4,
   "metadata": {},
   "outputs": [
    {
     "data": {
      "text/plain": [
       "Index(['date_forecast', 'absolute_humidity_2m:gm3', 'air_density_2m:kgm3',\n",
       "       'ceiling_height_agl:m', 'clear_sky_energy_1h:J', 'clear_sky_rad:W',\n",
       "       'cloud_base_agl:m', 'dew_or_rime:idx', 'dew_point_2m:K',\n",
       "       'diffuse_rad:W', 'diffuse_rad_1h:J', 'direct_rad:W', 'direct_rad_1h:J',\n",
       "       'effective_cloud_cover:p', 'elevation:m', 'fresh_snow_12h:cm',\n",
       "       'fresh_snow_1h:cm', 'fresh_snow_24h:cm', 'fresh_snow_3h:cm',\n",
       "       'fresh_snow_6h:cm', 'is_day:idx', 'is_in_shadow:idx',\n",
       "       'msl_pressure:hPa', 'precip_5min:mm', 'precip_type_5min:idx',\n",
       "       'pressure_100m:hPa', 'pressure_50m:hPa', 'prob_rime:p',\n",
       "       'rain_water:kgm2', 'relative_humidity_1000hPa:p', 'sfc_pressure:hPa',\n",
       "       'snow_density:kgm3', 'snow_depth:cm', 'snow_drift:idx',\n",
       "       'snow_melt_10min:mm', 'snow_water:kgm2', 'sun_azimuth:d',\n",
       "       'sun_elevation:d', 'super_cooled_liquid_water:kgm2', 't_1000hPa:K',\n",
       "       'total_cloud_cover:p', 'visibility:m', 'wind_speed_10m:ms',\n",
       "       'wind_speed_u_10m:ms', 'wind_speed_v_10m:ms',\n",
       "       'wind_speed_w_1000hPa:ms'],\n",
       "      dtype='object')"
      ]
     },
     "execution_count": 4,
     "metadata": {},
     "output_type": "execute_result"
    }
   ],
   "source": [
    "X_train_observed_a.columns"
   ]
  },
  {
   "cell_type": "code",
   "execution_count": null,
   "metadata": {},
   "outputs": [],
   "source": []
  }
 ],
 "metadata": {
  "kernelspec": {
   "display_name": "sigmoidwarriors",
   "language": "python",
   "name": "sigmoidwarriors"
  },
  "language_info": {
   "codemirror_mode": {
    "name": "ipython",
    "version": 3
   },
   "file_extension": ".py",
   "mimetype": "text/x-python",
   "name": "python",
   "nbconvert_exporter": "python",
   "pygments_lexer": "ipython3",
   "version": "3.10.2"
  }
 },
 "nbformat": 4,
 "nbformat_minor": 2
}
