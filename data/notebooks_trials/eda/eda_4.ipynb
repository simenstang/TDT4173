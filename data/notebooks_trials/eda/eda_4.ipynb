{
 "cells": [
  {
   "cell_type": "code",
   "execution_count": 87,
   "metadata": {},
   "outputs": [],
   "source": [
    "import pandas as pd\n",
    "import numpy as np\n",
    "import matplotlib.pylab as plt\n",
    "import xgboost as xgb\n",
    "import math\n",
    "import csv\n",
    "import seaborn as sns\n",
    "plt.style.use('fivethirtyeight')\n",
    "%matplotlib inline"
   ]
  },
  {
   "cell_type": "code",
   "execution_count": 88,
   "metadata": {},
   "outputs": [],
   "source": [
    "train_a = pd.read_parquet('../../A/train_targets.parquet')\n",
    "train_b = pd.read_parquet('../../B/train_targets.parquet')\n",
    "train_c = pd.read_parquet('../../C/train_targets.parquet')\n",
    "\n",
    "X_train_estimated_a = pd.read_parquet('../../A/X_train_estimated.parquet')\n",
    "X_train_estimated_b = pd.read_parquet('../../B/X_train_estimated.parquet')\n",
    "X_train_estimated_c = pd.read_parquet('../../C/X_train_estimated.parquet')\n",
    "\n",
    "X_train_observed_a = pd.read_parquet('../../A/X_train_observed.parquet')\n",
    "X_train_observed_b = pd.read_parquet('../../B/X_train_observed.parquet')\n",
    "X_train_observed_c = pd.read_parquet('../../C/X_train_observed.parquet')\n",
    "\n",
    "X_test_estimated_a = pd.read_parquet('../../A/X_test_estimated.parquet')\n",
    "X_test_estimated_b = pd.read_parquet('../../B/X_test_estimated.parquet')\n",
    "X_test_estimated_c = pd.read_parquet('../../C/X_test_estimated.parquet')"
   ]
  },
  {
   "cell_type": "code",
   "execution_count": 89,
   "metadata": {},
   "outputs": [],
   "source": [
    "X_train_observed_a['date_forecast'] = pd.to_datetime(X_train_observed_a['date_forecast'])\n",
    "X_train_observed_a.set_index('date_forecast', inplace=True)"
   ]
  },
  {
   "cell_type": "code",
   "execution_count": 90,
   "metadata": {},
   "outputs": [],
   "source": [
    "df = X_train_observed_a.copy()\n",
    "\n",
    "df.index = pd.to_datetime(df.index)\n",
    "\n",
    "grouped = df.groupby(df.index.date)\n",
    "\n",
    "def time_difference_from_max_solar_elevation(group):\n",
    "    time_of_max_solar_elevation = group['sun_elevation:d'].idxmax()\n",
    "    time_difference = (group.index - time_of_max_solar_elevation).seconds / 3600\n",
    "    time_difference = time_difference - (time_difference > 12) * 24  # Adjust for differences more than 12 hours\n",
    "    return pd.Series(time_difference, index=group.index)\n",
    "\n",
    "# Apply the function to each group\n",
    "time_difference = grouped.apply(time_difference_from_max_solar_elevation)\n",
    "\n",
    "# Flatten the resulting multi-index\n",
    "time_difference = time_difference.reset_index(level=0, drop=True)\n"
   ]
  },
  {
   "cell_type": "code",
   "execution_count": 91,
   "metadata": {},
   "outputs": [],
   "source": [
    "time_difference = time_difference.to_frame()"
   ]
  },
  {
   "cell_type": "markdown",
   "metadata": {},
   "source": [
    "How should i pick the models i want to use?\n",
    "\n",
    "Is there any point in having specialized models?\n",
    "\n",
    "The based to collect the models\n",
    " - How should i weight them?\n",
    "    - Not according to MAE on Kaggle?\n",
    "\n",
    " Should i fit the dataset only on a subset of the data?\n",
    "\n",
    "How bad can the worst model in the ensemble be?\n",
    "\n",
    "Any point in bagging/stacking?\n",
    "\n",
    "Benefits of regularized greedy forest?\n",
    "\n",
    "Trasformer architecture?\n",
    "\n",
    "Is there such a thing as too much tuning?"
   ]
  },
  {
   "cell_type": "code",
   "execution_count": 97,
   "metadata": {},
   "outputs": [
    {
     "data": {
      "text/html": [
       "<div>\n",
       "<style scoped>\n",
       "    .dataframe tbody tr th:only-of-type {\n",
       "        vertical-align: middle;\n",
       "    }\n",
       "\n",
       "    .dataframe tbody tr th {\n",
       "        vertical-align: top;\n",
       "    }\n",
       "\n",
       "    .dataframe thead th {\n",
       "        text-align: right;\n",
       "    }\n",
       "</style>\n",
       "<table border=\"1\" class=\"dataframe\">\n",
       "  <thead>\n",
       "    <tr style=\"text-align: right;\">\n",
       "      <th></th>\n",
       "      <th>date_forecast</th>\n",
       "    </tr>\n",
       "    <tr>\n",
       "      <th>date_forecast</th>\n",
       "      <th></th>\n",
       "    </tr>\n",
       "  </thead>\n",
       "  <tbody>\n",
       "    <tr>\n",
       "      <th>2019-06-02 22:00:00</th>\n",
       "      <td>0.00</td>\n",
       "    </tr>\n",
       "    <tr>\n",
       "      <th>2019-06-02 22:15:00</th>\n",
       "      <td>0.25</td>\n",
       "    </tr>\n",
       "    <tr>\n",
       "      <th>2019-06-02 22:30:00</th>\n",
       "      <td>0.50</td>\n",
       "    </tr>\n",
       "    <tr>\n",
       "      <th>2019-06-02 22:45:00</th>\n",
       "      <td>0.75</td>\n",
       "    </tr>\n",
       "    <tr>\n",
       "      <th>2019-06-02 23:00:00</th>\n",
       "      <td>1.00</td>\n",
       "    </tr>\n",
       "  </tbody>\n",
       "</table>\n",
       "</div>"
      ],
      "text/plain": [
       "                     date_forecast\n",
       "date_forecast                     \n",
       "2019-06-02 22:00:00           0.00\n",
       "2019-06-02 22:15:00           0.25\n",
       "2019-06-02 22:30:00           0.50\n",
       "2019-06-02 22:45:00           0.75\n",
       "2019-06-02 23:00:00           1.00"
      ]
     },
     "execution_count": 97,
     "metadata": {},
     "output_type": "execute_result"
    }
   ],
   "source": [
    "time_difference.head()"
   ]
  },
  {
   "cell_type": "code",
   "execution_count": null,
   "metadata": {},
   "outputs": [],
   "source": []
  }
 ],
 "metadata": {
  "kernelspec": {
   "display_name": "sigmoidwarriors",
   "language": "python",
   "name": "sigmoidwarriors"
  },
  "language_info": {
   "codemirror_mode": {
    "name": "ipython",
    "version": 3
   },
   "file_extension": ".py",
   "mimetype": "text/x-python",
   "name": "python",
   "nbconvert_exporter": "python",
   "pygments_lexer": "ipython3",
   "version": "3.10.2"
  }
 },
 "nbformat": 4,
 "nbformat_minor": 2
}
