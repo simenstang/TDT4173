{
 "cells": [
  {
   "cell_type": "code",
   "execution_count": 2,
   "metadata": {},
   "outputs": [],
   "source": [
    "import pandas as pd\n",
    "import numpy as np\n",
    "import matplotlib.pylab as plt\n",
    "import xgboost as xgb\n",
    "import math\n",
    "import csv\n",
    "import seaborn as sns\n",
    "plt.style.use('fivethirtyeight')\n",
    "%matplotlib inline"
   ]
  },
  {
   "cell_type": "code",
   "execution_count": 3,
   "metadata": {},
   "outputs": [],
   "source": [
    "train_a = pd.read_parquet('../../A/train_targets.parquet')\n",
    "train_b = pd.read_parquet('../../B/train_targets.parquet')\n",
    "train_c = pd.read_parquet('../../C/train_targets.parquet')\n",
    "\n",
    "X_train_estimated_a = pd.read_parquet('../../A/X_train_estimated.parquet')\n",
    "X_train_estimated_b = pd.read_parquet('../../B/X_train_estimated.parquet')\n",
    "X_train_estimated_c = pd.read_parquet('../../C/X_train_estimated.parquet')\n",
    "\n",
    "X_train_observed_a = pd.read_parquet('../../A/X_train_observed.parquet')\n",
    "X_train_observed_b = pd.read_parquet('../../B/X_train_observed.parquet')\n",
    "X_train_observed_c = pd.read_parquet('../../C/X_train_observed.parquet')\n",
    "\n",
    "X_test_estimated_a = pd.read_parquet('../../A/X_test_estimated.parquet')\n",
    "X_test_estimated_b = pd.read_parquet('../../B/X_test_estimated.parquet')"
   ]
  },
  {
   "cell_type": "code",
   "execution_count": null,
   "metadata": {},
   "outputs": [],
   "source": []
  }
 ],
 "metadata": {
  "kernelspec": {
   "display_name": "sigmoidwarriors",
   "language": "python",
   "name": "sigmoidwarriors"
  },
  "language_info": {
   "codemirror_mode": {
    "name": "ipython",
    "version": 3
   },
   "file_extension": ".py",
   "mimetype": "text/x-python",
   "name": "python",
   "nbconvert_exporter": "python",
   "pygments_lexer": "ipython3",
   "version": "3.10.2"
  }
 },
 "nbformat": 4,
 "nbformat_minor": 2
}
