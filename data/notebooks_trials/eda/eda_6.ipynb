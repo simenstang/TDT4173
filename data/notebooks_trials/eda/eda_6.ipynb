{
 "cells": [
  {
   "cell_type": "code",
   "execution_count": 1428,
   "metadata": {},
   "outputs": [],
   "source": [
    "import pandas as pd\n",
    "import numpy as np\n",
    "import matplotlib.pylab as plt\n",
    "import xgboost as xgb\n",
    "import math\n",
    "import csv\n",
    "import seaborn as sns\n",
    "plt.style.use('fivethirtyeight')\n",
    "%matplotlib inline"
   ]
  },
  {
   "cell_type": "code",
   "execution_count": 1429,
   "metadata": {},
   "outputs": [],
   "source": [
    "train_a = pd.read_parquet('../../A/train_targets.parquet')\n",
    "train_b = pd.read_parquet('../../B/train_targets.parquet')\n",
    "train_c = pd.read_parquet('../../C/train_targets.parquet')\n",
    "\n",
    "X_train_estimated_a = pd.read_parquet('../../A/X_train_estimated.parquet')\n",
    "X_train_estimated_b = pd.read_parquet('../../B/X_train_estimated.parquet')\n",
    "X_train_estimated_c = pd.read_parquet('../../C/X_train_estimated.parquet')\n",
    "\n",
    "X_train_observed_a = pd.read_parquet('../../A/X_train_observed.parquet')\n",
    "X_train_observed_b = pd.read_parquet('../../B/X_train_observed.parquet')\n",
    "X_train_observed_c = pd.read_parquet('../../C/X_train_observed.parquet')\n",
    "\n",
    "X_test_estimated_a = pd.read_parquet('../../A/X_test_estimated.parquet')\n",
    "X_test_estimated_b = pd.read_parquet('../../B/X_test_estimated.parquet')\n",
    "X_test_estimated_c = pd.read_parquet('../../C/X_test_estimated.parquet')"
   ]
  },
  {
   "cell_type": "code",
   "execution_count": 1430,
   "metadata": {},
   "outputs": [
    {
     "data": {
      "text/html": [
       "<div>\n",
       "<style scoped>\n",
       "    .dataframe tbody tr th:only-of-type {\n",
       "        vertical-align: middle;\n",
       "    }\n",
       "\n",
       "    .dataframe tbody tr th {\n",
       "        vertical-align: top;\n",
       "    }\n",
       "\n",
       "    .dataframe thead th {\n",
       "        text-align: right;\n",
       "    }\n",
       "</style>\n",
       "<table border=\"1\" class=\"dataframe\">\n",
       "  <thead>\n",
       "    <tr style=\"text-align: right;\">\n",
       "      <th></th>\n",
       "      <th>date_calc</th>\n",
       "      <th>date_forecast</th>\n",
       "      <th>absolute_humidity_2m:gm3</th>\n",
       "      <th>air_density_2m:kgm3</th>\n",
       "      <th>ceiling_height_agl:m</th>\n",
       "      <th>clear_sky_energy_1h:J</th>\n",
       "      <th>clear_sky_rad:W</th>\n",
       "      <th>cloud_base_agl:m</th>\n",
       "      <th>dew_or_rime:idx</th>\n",
       "      <th>dew_point_2m:K</th>\n",
       "      <th>...</th>\n",
       "      <th>sun_azimuth:d</th>\n",
       "      <th>sun_elevation:d</th>\n",
       "      <th>super_cooled_liquid_water:kgm2</th>\n",
       "      <th>t_1000hPa:K</th>\n",
       "      <th>total_cloud_cover:p</th>\n",
       "      <th>visibility:m</th>\n",
       "      <th>wind_speed_10m:ms</th>\n",
       "      <th>wind_speed_u_10m:ms</th>\n",
       "      <th>wind_speed_v_10m:ms</th>\n",
       "      <th>wind_speed_w_1000hPa:ms</th>\n",
       "    </tr>\n",
       "  </thead>\n",
       "  <tbody>\n",
       "  </tbody>\n",
       "</table>\n",
       "<p>0 rows × 47 columns</p>\n",
       "</div>"
      ],
      "text/plain": [
       "Empty DataFrame\n",
       "Columns: [date_calc, date_forecast, absolute_humidity_2m:gm3, air_density_2m:kgm3, ceiling_height_agl:m, clear_sky_energy_1h:J, clear_sky_rad:W, cloud_base_agl:m, dew_or_rime:idx, dew_point_2m:K, diffuse_rad:W, diffuse_rad_1h:J, direct_rad:W, direct_rad_1h:J, effective_cloud_cover:p, elevation:m, fresh_snow_12h:cm, fresh_snow_1h:cm, fresh_snow_24h:cm, fresh_snow_3h:cm, fresh_snow_6h:cm, is_day:idx, is_in_shadow:idx, msl_pressure:hPa, precip_5min:mm, precip_type_5min:idx, pressure_100m:hPa, pressure_50m:hPa, prob_rime:p, rain_water:kgm2, relative_humidity_1000hPa:p, sfc_pressure:hPa, snow_density:kgm3, snow_depth:cm, snow_drift:idx, snow_melt_10min:mm, snow_water:kgm2, sun_azimuth:d, sun_elevation:d, super_cooled_liquid_water:kgm2, t_1000hPa:K, total_cloud_cover:p, visibility:m, wind_speed_10m:ms, wind_speed_u_10m:ms, wind_speed_v_10m:ms, wind_speed_w_1000hPa:ms]\n",
       "Index: []\n",
       "\n",
       "[0 rows x 47 columns]"
      ]
     },
     "execution_count": 1430,
     "metadata": {},
     "output_type": "execute_result"
    }
   ],
   "source": [
    "X_train_estimated_c[X_train_estimated_c['date_forecast'] == '2023-01-26']"
   ]
  },
  {
   "cell_type": "code",
   "execution_count": 1431,
   "metadata": {},
   "outputs": [],
   "source": [
    "X_train_estimated_c.set_index('date_forecast', inplace=True)\n",
    "X_train_estimated_c.drop('date_calc', axis=1, inplace=True)"
   ]
  },
  {
   "cell_type": "code",
   "execution_count": 1432,
   "metadata": {},
   "outputs": [
    {
     "data": {
      "text/plain": [
       "Timestamp('2022-10-28 22:00:00')"
      ]
     },
     "execution_count": 1432,
     "metadata": {},
     "output_type": "execute_result"
    }
   ],
   "source": [
    "X_train_estimated_c.index.min()"
   ]
  },
  {
   "cell_type": "code",
   "execution_count": 1433,
   "metadata": {},
   "outputs": [
    {
     "data": {
      "text/html": [
       "<div>\n",
       "<style scoped>\n",
       "    .dataframe tbody tr th:only-of-type {\n",
       "        vertical-align: middle;\n",
       "    }\n",
       "\n",
       "    .dataframe tbody tr th {\n",
       "        vertical-align: top;\n",
       "    }\n",
       "\n",
       "    .dataframe thead th {\n",
       "        text-align: right;\n",
       "    }\n",
       "</style>\n",
       "<table border=\"1\" class=\"dataframe\">\n",
       "  <thead>\n",
       "    <tr style=\"text-align: right;\">\n",
       "      <th></th>\n",
       "      <th>absolute_humidity_2m:gm3</th>\n",
       "      <th>air_density_2m:kgm3</th>\n",
       "      <th>ceiling_height_agl:m</th>\n",
       "      <th>clear_sky_energy_1h:J</th>\n",
       "      <th>clear_sky_rad:W</th>\n",
       "      <th>cloud_base_agl:m</th>\n",
       "      <th>dew_or_rime:idx</th>\n",
       "      <th>dew_point_2m:K</th>\n",
       "      <th>diffuse_rad:W</th>\n",
       "      <th>diffuse_rad_1h:J</th>\n",
       "      <th>...</th>\n",
       "      <th>sun_azimuth:d</th>\n",
       "      <th>sun_elevation:d</th>\n",
       "      <th>super_cooled_liquid_water:kgm2</th>\n",
       "      <th>t_1000hPa:K</th>\n",
       "      <th>total_cloud_cover:p</th>\n",
       "      <th>visibility:m</th>\n",
       "      <th>wind_speed_10m:ms</th>\n",
       "      <th>wind_speed_u_10m:ms</th>\n",
       "      <th>wind_speed_v_10m:ms</th>\n",
       "      <th>wind_speed_w_1000hPa:ms</th>\n",
       "    </tr>\n",
       "    <tr>\n",
       "      <th>date_forecast</th>\n",
       "      <th></th>\n",
       "      <th></th>\n",
       "      <th></th>\n",
       "      <th></th>\n",
       "      <th></th>\n",
       "      <th></th>\n",
       "      <th></th>\n",
       "      <th></th>\n",
       "      <th></th>\n",
       "      <th></th>\n",
       "      <th></th>\n",
       "      <th></th>\n",
       "      <th></th>\n",
       "      <th></th>\n",
       "      <th></th>\n",
       "      <th></th>\n",
       "      <th></th>\n",
       "      <th></th>\n",
       "      <th></th>\n",
       "      <th></th>\n",
       "      <th></th>\n",
       "    </tr>\n",
       "  </thead>\n",
       "  <tbody>\n",
       "  </tbody>\n",
       "</table>\n",
       "<p>0 rows × 45 columns</p>\n",
       "</div>"
      ],
      "text/plain": [
       "Empty DataFrame\n",
       "Columns: [absolute_humidity_2m:gm3, air_density_2m:kgm3, ceiling_height_agl:m, clear_sky_energy_1h:J, clear_sky_rad:W, cloud_base_agl:m, dew_or_rime:idx, dew_point_2m:K, diffuse_rad:W, diffuse_rad_1h:J, direct_rad:W, direct_rad_1h:J, effective_cloud_cover:p, elevation:m, fresh_snow_12h:cm, fresh_snow_1h:cm, fresh_snow_24h:cm, fresh_snow_3h:cm, fresh_snow_6h:cm, is_day:idx, is_in_shadow:idx, msl_pressure:hPa, precip_5min:mm, precip_type_5min:idx, pressure_100m:hPa, pressure_50m:hPa, prob_rime:p, rain_water:kgm2, relative_humidity_1000hPa:p, sfc_pressure:hPa, snow_density:kgm3, snow_depth:cm, snow_drift:idx, snow_melt_10min:mm, snow_water:kgm2, sun_azimuth:d, sun_elevation:d, super_cooled_liquid_water:kgm2, t_1000hPa:K, total_cloud_cover:p, visibility:m, wind_speed_10m:ms, wind_speed_u_10m:ms, wind_speed_v_10m:ms, wind_speed_w_1000hPa:ms]\n",
       "Index: []\n",
       "\n",
       "[0 rows x 45 columns]"
      ]
     },
     "execution_count": 1433,
     "metadata": {},
     "output_type": "execute_result"
    }
   ],
   "source": [
    "X_train_estimated_c.loc['2023-01-26']"
   ]
  },
  {
   "cell_type": "code",
   "execution_count": 1434,
   "metadata": {},
   "outputs": [],
   "source": [
    "def add_distance_to_solar_noon(df_in):\n",
    "    \"\"\" \n",
    "        Adds the distance to solar noon as a feature. Solar noon is calculated by taking to time in which the sun elevation\n",
    "        is at its highgest for the day. The distance to this point in time is calculated in minutes.\n",
    "\n",
    "        Assumes datetime index. Must be before resampling.\n",
    "    \"\"\"\n",
    "\n",
    "    df = df_in.copy()\n",
    "\n",
    "    all_times = set(pd.date_range(start=\"00:00\", end=\"23:45\", freq='15T').time)\n",
    "    valid_dates = df.groupby(df.index.date).filter(lambda group: set(group.index.time) == all_times)\n",
    "    df = valid_dates\n",
    "\n",
    "    daily_max_elevation = df.resample('D')['sun_elevation:d'].idxmax()\n",
    "    daily_max_elevation = daily_max_elevation.to_frame()\n",
    "    daily_max_elevation['sun_elevation:d'] = daily_max_elevation['sun_elevation:d'].dt.time\n",
    "    daily_max_elevation.rename(columns={'sun_elevation:d' : 'distance_to_solar_noon'}, inplace=True)\n",
    "\n",
    "    df = df.merge(daily_max_elevation, left_index=True, right_index=True, how='outer')\n",
    "    df['distance_to_solar_noon'] = df.groupby(df.index.date)['distance_to_solar_noon'].ffill()\n",
    "\n",
    "    df['solar_noon_timedelta'] = pd.to_timedelta(df['distance_to_solar_noon'].astype(str))\n",
    "    df['solar_noon_datetime'] = df.index.normalize() + df['solar_noon_timedelta']\n",
    "    df['distance_to_solar_noon'] = (df['solar_noon_datetime'] - df.index).dt.total_seconds().abs() / 60\n",
    "\n",
    "    return df\n",
    "    "
   ]
  },
  {
   "cell_type": "code",
   "execution_count": 1435,
   "metadata": {},
   "outputs": [
    {
     "data": {
      "text/plain": [
       "(17576, 47)"
      ]
     },
     "execution_count": 1435,
     "metadata": {},
     "output_type": "execute_result"
    }
   ],
   "source": [
    "X_train_estimated_a.shape"
   ]
  },
  {
   "cell_type": "code",
   "execution_count": 1436,
   "metadata": {},
   "outputs": [
    {
     "ename": "KeyError",
     "evalue": "'2023-01-27'",
     "output_type": "error",
     "traceback": [
      "\u001b[0;31m---------------------------------------------------------------------------\u001b[0m",
      "\u001b[0;31mKeyError\u001b[0m                                  Traceback (most recent call last)",
      "\u001b[1;32m/Users/nickaskari/Machinelearning/TDT4173/data/notebooks_trials/eda/eda_6.ipynb Cell 9\u001b[0m line \u001b[0;36m1\n\u001b[0;32m----> <a href='vscode-notebook-cell:/Users/nickaskari/Machinelearning/TDT4173/data/notebooks_trials/eda/eda_6.ipynb#X53sZmlsZQ%3D%3D?line=0'>1</a>\u001b[0m X_train_estimated_a\u001b[39m.\u001b[39;49mloc[\u001b[39m'\u001b[39;49m\u001b[39m2023-01-27\u001b[39;49m\u001b[39m'\u001b[39;49m]\n",
      "File \u001b[0;32m~/Machinelearning/TDT4173/data/sigmoidwarriors/lib/python3.10/site-packages/pandas/core/indexing.py:1153\u001b[0m, in \u001b[0;36m_LocationIndexer.__getitem__\u001b[0;34m(self, key)\u001b[0m\n\u001b[1;32m   1150\u001b[0m axis \u001b[39m=\u001b[39m \u001b[39mself\u001b[39m\u001b[39m.\u001b[39maxis \u001b[39mor\u001b[39;00m \u001b[39m0\u001b[39m\n\u001b[1;32m   1152\u001b[0m maybe_callable \u001b[39m=\u001b[39m com\u001b[39m.\u001b[39mapply_if_callable(key, \u001b[39mself\u001b[39m\u001b[39m.\u001b[39mobj)\n\u001b[0;32m-> 1153\u001b[0m \u001b[39mreturn\u001b[39;00m \u001b[39mself\u001b[39;49m\u001b[39m.\u001b[39;49m_getitem_axis(maybe_callable, axis\u001b[39m=\u001b[39;49maxis)\n",
      "File \u001b[0;32m~/Machinelearning/TDT4173/data/sigmoidwarriors/lib/python3.10/site-packages/pandas/core/indexing.py:1393\u001b[0m, in \u001b[0;36m_LocIndexer._getitem_axis\u001b[0;34m(self, key, axis)\u001b[0m\n\u001b[1;32m   1391\u001b[0m \u001b[39m# fall thru to straight lookup\u001b[39;00m\n\u001b[1;32m   1392\u001b[0m \u001b[39mself\u001b[39m\u001b[39m.\u001b[39m_validate_key(key, axis)\n\u001b[0;32m-> 1393\u001b[0m \u001b[39mreturn\u001b[39;00m \u001b[39mself\u001b[39;49m\u001b[39m.\u001b[39;49m_get_label(key, axis\u001b[39m=\u001b[39;49maxis)\n",
      "File \u001b[0;32m~/Machinelearning/TDT4173/data/sigmoidwarriors/lib/python3.10/site-packages/pandas/core/indexing.py:1343\u001b[0m, in \u001b[0;36m_LocIndexer._get_label\u001b[0;34m(self, label, axis)\u001b[0m\n\u001b[1;32m   1341\u001b[0m \u001b[39mdef\u001b[39;00m \u001b[39m_get_label\u001b[39m(\u001b[39mself\u001b[39m, label, axis: AxisInt):\n\u001b[1;32m   1342\u001b[0m     \u001b[39m# GH#5567 this will fail if the label is not present in the axis.\u001b[39;00m\n\u001b[0;32m-> 1343\u001b[0m     \u001b[39mreturn\u001b[39;00m \u001b[39mself\u001b[39;49m\u001b[39m.\u001b[39;49mobj\u001b[39m.\u001b[39;49mxs(label, axis\u001b[39m=\u001b[39;49maxis)\n",
      "File \u001b[0;32m~/Machinelearning/TDT4173/data/sigmoidwarriors/lib/python3.10/site-packages/pandas/core/generic.py:4236\u001b[0m, in \u001b[0;36mNDFrame.xs\u001b[0;34m(self, key, axis, level, drop_level)\u001b[0m\n\u001b[1;32m   4234\u001b[0m             new_index \u001b[39m=\u001b[39m index[loc]\n\u001b[1;32m   4235\u001b[0m \u001b[39melse\u001b[39;00m:\n\u001b[0;32m-> 4236\u001b[0m     loc \u001b[39m=\u001b[39m index\u001b[39m.\u001b[39;49mget_loc(key)\n\u001b[1;32m   4238\u001b[0m     \u001b[39mif\u001b[39;00m \u001b[39misinstance\u001b[39m(loc, np\u001b[39m.\u001b[39mndarray):\n\u001b[1;32m   4239\u001b[0m         \u001b[39mif\u001b[39;00m loc\u001b[39m.\u001b[39mdtype \u001b[39m==\u001b[39m np\u001b[39m.\u001b[39mbool_:\n",
      "File \u001b[0;32m~/Machinelearning/TDT4173/data/sigmoidwarriors/lib/python3.10/site-packages/pandas/core/indexes/range.py:418\u001b[0m, in \u001b[0;36mRangeIndex.get_loc\u001b[0;34m(self, key)\u001b[0m\n\u001b[1;32m    416\u001b[0m         \u001b[39mraise\u001b[39;00m \u001b[39mKeyError\u001b[39;00m(key) \u001b[39mfrom\u001b[39;00m \u001b[39merr\u001b[39;00m\n\u001b[1;32m    417\u001b[0m \u001b[39mif\u001b[39;00m \u001b[39misinstance\u001b[39m(key, Hashable):\n\u001b[0;32m--> 418\u001b[0m     \u001b[39mraise\u001b[39;00m \u001b[39mKeyError\u001b[39;00m(key)\n\u001b[1;32m    419\u001b[0m \u001b[39mself\u001b[39m\u001b[39m.\u001b[39m_check_indexing_error(key)\n\u001b[1;32m    420\u001b[0m \u001b[39mraise\u001b[39;00m \u001b[39mKeyError\u001b[39;00m(key)\n",
      "\u001b[0;31mKeyError\u001b[0m: '2023-01-27'"
     ]
    }
   ],
   "source": [
    "X_train_estimated_a.loc['2023-01-27']"
   ]
  },
  {
   "cell_type": "code",
   "execution_count": null,
   "metadata": {},
   "outputs": [
    {
     "ename": "ValueError",
     "evalue": "attempt to get argmax of an empty sequence",
     "output_type": "error",
     "traceback": [
      "\u001b[0;31m---------------------------------------------------------------------------\u001b[0m",
      "\u001b[0;31mValueError\u001b[0m                                Traceback (most recent call last)",
      "\u001b[1;32m/Users/nickaskari/Machinelearning/TDT4173/data/notebooks_trials/eda/eda_6.ipynb Cell 10\u001b[0m line \u001b[0;36m1\n\u001b[0;32m----> <a href='vscode-notebook-cell:/Users/nickaskari/Machinelearning/TDT4173/data/notebooks_trials/eda/eda_6.ipynb#X43sZmlsZQ%3D%3D?line=0'>1</a>\u001b[0m X_train_estimated_a \u001b[39m=\u001b[39m add_distance_to_solar_noon(X_train_estimated_a)\n\u001b[1;32m      <a href='vscode-notebook-cell:/Users/nickaskari/Machinelearning/TDT4173/data/notebooks_trials/eda/eda_6.ipynb#X43sZmlsZQ%3D%3D?line=1'>2</a>\u001b[0m X_train_estimated_a\u001b[39m.\u001b[39mshape\n",
      "\u001b[1;32m/Users/nickaskari/Machinelearning/TDT4173/data/notebooks_trials/eda/eda_6.ipynb Cell 10\u001b[0m line \u001b[0;36m1\n\u001b[1;32m     <a href='vscode-notebook-cell:/Users/nickaskari/Machinelearning/TDT4173/data/notebooks_trials/eda/eda_6.ipynb#X43sZmlsZQ%3D%3D?line=11'>12</a>\u001b[0m valid_dates \u001b[39m=\u001b[39m df\u001b[39m.\u001b[39mgroupby(df\u001b[39m.\u001b[39mindex\u001b[39m.\u001b[39mdate)\u001b[39m.\u001b[39mfilter(\u001b[39mlambda\u001b[39;00m group: \u001b[39mset\u001b[39m(group\u001b[39m.\u001b[39mindex\u001b[39m.\u001b[39mtime) \u001b[39m==\u001b[39m all_times)\n\u001b[1;32m     <a href='vscode-notebook-cell:/Users/nickaskari/Machinelearning/TDT4173/data/notebooks_trials/eda/eda_6.ipynb#X43sZmlsZQ%3D%3D?line=12'>13</a>\u001b[0m df \u001b[39m=\u001b[39m valid_dates\n\u001b[0;32m---> <a href='vscode-notebook-cell:/Users/nickaskari/Machinelearning/TDT4173/data/notebooks_trials/eda/eda_6.ipynb#X43sZmlsZQ%3D%3D?line=14'>15</a>\u001b[0m daily_max_elevation \u001b[39m=\u001b[39m df\u001b[39m.\u001b[39;49mresample(\u001b[39m'\u001b[39;49m\u001b[39mD\u001b[39;49m\u001b[39m'\u001b[39;49m)[\u001b[39m'\u001b[39;49m\u001b[39msun_elevation:d\u001b[39;49m\u001b[39m'\u001b[39;49m]\u001b[39m.\u001b[39;49midxmax()\n\u001b[1;32m     <a href='vscode-notebook-cell:/Users/nickaskari/Machinelearning/TDT4173/data/notebooks_trials/eda/eda_6.ipynb#X43sZmlsZQ%3D%3D?line=15'>16</a>\u001b[0m daily_max_elevation \u001b[39m=\u001b[39m daily_max_elevation\u001b[39m.\u001b[39mto_frame()\n\u001b[1;32m     <a href='vscode-notebook-cell:/Users/nickaskari/Machinelearning/TDT4173/data/notebooks_trials/eda/eda_6.ipynb#X43sZmlsZQ%3D%3D?line=16'>17</a>\u001b[0m daily_max_elevation[\u001b[39m'\u001b[39m\u001b[39msun_elevation:d\u001b[39m\u001b[39m'\u001b[39m] \u001b[39m=\u001b[39m daily_max_elevation[\u001b[39m'\u001b[39m\u001b[39msun_elevation:d\u001b[39m\u001b[39m'\u001b[39m]\u001b[39m.\u001b[39mdt\u001b[39m.\u001b[39mtime\n",
      "File \u001b[0;32m~/Machinelearning/TDT4173/data/sigmoidwarriors/lib/python3.10/site-packages/pandas/core/groupby/generic.py:1192\u001b[0m, in \u001b[0;36mSeriesGroupBy.idxmax\u001b[0;34m(self, axis, skipna)\u001b[0m\n\u001b[1;32m   1188\u001b[0m \u001b[39m@doc\u001b[39m(Series\u001b[39m.\u001b[39midxmax\u001b[39m.\u001b[39m\u001b[39m__doc__\u001b[39m)\n\u001b[1;32m   1189\u001b[0m \u001b[39mdef\u001b[39;00m \u001b[39midxmax\u001b[39m(\n\u001b[1;32m   1190\u001b[0m     \u001b[39mself\u001b[39m, axis: Axis \u001b[39m|\u001b[39m lib\u001b[39m.\u001b[39mNoDefault \u001b[39m=\u001b[39m lib\u001b[39m.\u001b[39mno_default, skipna: \u001b[39mbool\u001b[39m \u001b[39m=\u001b[39m \u001b[39mTrue\u001b[39;00m\n\u001b[1;32m   1191\u001b[0m ) \u001b[39m-\u001b[39m\u001b[39m>\u001b[39m Series:\n\u001b[0;32m-> 1192\u001b[0m     result \u001b[39m=\u001b[39m \u001b[39mself\u001b[39;49m\u001b[39m.\u001b[39;49m_op_via_apply(\u001b[39m\"\u001b[39;49m\u001b[39midxmax\u001b[39;49m\u001b[39m\"\u001b[39;49m, axis\u001b[39m=\u001b[39;49maxis, skipna\u001b[39m=\u001b[39;49mskipna)\n\u001b[1;32m   1193\u001b[0m     \u001b[39mreturn\u001b[39;00m result\u001b[39m.\u001b[39mastype(\u001b[39mself\u001b[39m\u001b[39m.\u001b[39mobj\u001b[39m.\u001b[39mindex\u001b[39m.\u001b[39mdtype) \u001b[39mif\u001b[39;00m result\u001b[39m.\u001b[39mempty \u001b[39melse\u001b[39;00m result\n",
      "File \u001b[0;32m~/Machinelearning/TDT4173/data/sigmoidwarriors/lib/python3.10/site-packages/pandas/core/groupby/groupby.py:1370\u001b[0m, in \u001b[0;36mGroupBy._op_via_apply\u001b[0;34m(self, name, *args, **kwargs)\u001b[0m\n\u001b[1;32m   1367\u001b[0m     \u001b[39mreturn\u001b[39;00m \u001b[39mself\u001b[39m\u001b[39m.\u001b[39m_python_apply_general(curried, \u001b[39mself\u001b[39m\u001b[39m.\u001b[39m_selected_obj)\n\u001b[1;32m   1369\u001b[0m is_transform \u001b[39m=\u001b[39m name \u001b[39min\u001b[39;00m base\u001b[39m.\u001b[39mtransformation_kernels\n\u001b[0;32m-> 1370\u001b[0m result \u001b[39m=\u001b[39m \u001b[39mself\u001b[39;49m\u001b[39m.\u001b[39;49m_python_apply_general(\n\u001b[1;32m   1371\u001b[0m     curried,\n\u001b[1;32m   1372\u001b[0m     \u001b[39mself\u001b[39;49m\u001b[39m.\u001b[39;49m_obj_with_exclusions,\n\u001b[1;32m   1373\u001b[0m     is_transform\u001b[39m=\u001b[39;49mis_transform,\n\u001b[1;32m   1374\u001b[0m     not_indexed_same\u001b[39m=\u001b[39;49m\u001b[39mnot\u001b[39;49;00m is_transform,\n\u001b[1;32m   1375\u001b[0m )\n\u001b[1;32m   1377\u001b[0m \u001b[39mif\u001b[39;00m \u001b[39mself\u001b[39m\u001b[39m.\u001b[39mgrouper\u001b[39m.\u001b[39mhas_dropped_na \u001b[39mand\u001b[39;00m is_transform:\n\u001b[1;32m   1378\u001b[0m     \u001b[39m# result will have dropped rows due to nans, fill with null\u001b[39;00m\n\u001b[1;32m   1379\u001b[0m     \u001b[39m# and ensure index is ordered same as the input\u001b[39;00m\n\u001b[1;32m   1380\u001b[0m     result \u001b[39m=\u001b[39m \u001b[39mself\u001b[39m\u001b[39m.\u001b[39m_set_result_index_ordered(result)\n",
      "File \u001b[0;32m~/Machinelearning/TDT4173/data/sigmoidwarriors/lib/python3.10/site-packages/pandas/core/groupby/groupby.py:1815\u001b[0m, in \u001b[0;36mGroupBy._python_apply_general\u001b[0;34m(self, f, data, not_indexed_same, is_transform, is_agg)\u001b[0m\n\u001b[1;32m   1780\u001b[0m \u001b[39m@final\u001b[39m\n\u001b[1;32m   1781\u001b[0m \u001b[39mdef\u001b[39;00m \u001b[39m_python_apply_general\u001b[39m(\n\u001b[1;32m   1782\u001b[0m     \u001b[39mself\u001b[39m,\n\u001b[0;32m   (...)\u001b[0m\n\u001b[1;32m   1787\u001b[0m     is_agg: \u001b[39mbool\u001b[39m \u001b[39m=\u001b[39m \u001b[39mFalse\u001b[39;00m,\n\u001b[1;32m   1788\u001b[0m ) \u001b[39m-\u001b[39m\u001b[39m>\u001b[39m NDFrameT:\n\u001b[1;32m   1789\u001b[0m \u001b[39m    \u001b[39m\u001b[39m\"\"\"\u001b[39;00m\n\u001b[1;32m   1790\u001b[0m \u001b[39m    Apply function f in python space\u001b[39;00m\n\u001b[1;32m   1791\u001b[0m \n\u001b[0;32m   (...)\u001b[0m\n\u001b[1;32m   1813\u001b[0m \u001b[39m        data after applying f\u001b[39;00m\n\u001b[1;32m   1814\u001b[0m \u001b[39m    \"\"\"\u001b[39;00m\n\u001b[0;32m-> 1815\u001b[0m     values, mutated \u001b[39m=\u001b[39m \u001b[39mself\u001b[39;49m\u001b[39m.\u001b[39;49mgrouper\u001b[39m.\u001b[39;49mapply_groupwise(f, data, \u001b[39mself\u001b[39;49m\u001b[39m.\u001b[39;49maxis)\n\u001b[1;32m   1816\u001b[0m     \u001b[39mif\u001b[39;00m not_indexed_same \u001b[39mis\u001b[39;00m \u001b[39mNone\u001b[39;00m:\n\u001b[1;32m   1817\u001b[0m         not_indexed_same \u001b[39m=\u001b[39m mutated\n",
      "File \u001b[0;32m~/Machinelearning/TDT4173/data/sigmoidwarriors/lib/python3.10/site-packages/pandas/core/groupby/ops.py:905\u001b[0m, in \u001b[0;36mBaseGrouper.apply_groupwise\u001b[0;34m(self, f, data, axis)\u001b[0m\n\u001b[1;32m    903\u001b[0m \u001b[39m# group might be modified\u001b[39;00m\n\u001b[1;32m    904\u001b[0m group_axes \u001b[39m=\u001b[39m group\u001b[39m.\u001b[39maxes\n\u001b[0;32m--> 905\u001b[0m res \u001b[39m=\u001b[39m f(group)\n\u001b[1;32m    906\u001b[0m \u001b[39mif\u001b[39;00m \u001b[39mnot\u001b[39;00m mutated \u001b[39mand\u001b[39;00m \u001b[39mnot\u001b[39;00m _is_indexed_like(res, group_axes, axis):\n\u001b[1;32m    907\u001b[0m     mutated \u001b[39m=\u001b[39m \u001b[39mTrue\u001b[39;00m\n",
      "File \u001b[0;32m~/Machinelearning/TDT4173/data/sigmoidwarriors/lib/python3.10/site-packages/pandas/core/groupby/groupby.py:1358\u001b[0m, in \u001b[0;36mGroupBy._op_via_apply.<locals>.curried\u001b[0;34m(x)\u001b[0m\n\u001b[1;32m   1357\u001b[0m \u001b[39mdef\u001b[39;00m \u001b[39mcurried\u001b[39m(x):\n\u001b[0;32m-> 1358\u001b[0m     \u001b[39mreturn\u001b[39;00m f(x, \u001b[39m*\u001b[39;49margs, \u001b[39m*\u001b[39;49m\u001b[39m*\u001b[39;49mkwargs)\n",
      "File \u001b[0;32m~/Machinelearning/TDT4173/data/sigmoidwarriors/lib/python3.10/site-packages/pandas/core/series.py:2641\u001b[0m, in \u001b[0;36mSeries.idxmax\u001b[0;34m(self, axis, skipna, *args, **kwargs)\u001b[0m\n\u001b[1;32m   2636\u001b[0m \u001b[39mwith\u001b[39;00m warnings\u001b[39m.\u001b[39mcatch_warnings():\n\u001b[1;32m   2637\u001b[0m     \u001b[39m# TODO(3.0): this catching/filtering can be removed\u001b[39;00m\n\u001b[1;32m   2638\u001b[0m     \u001b[39m# ignore warning produced by argmax since we will issue a different\u001b[39;00m\n\u001b[1;32m   2639\u001b[0m     \u001b[39m#  warning for argmax\u001b[39;00m\n\u001b[1;32m   2640\u001b[0m     warnings\u001b[39m.\u001b[39msimplefilter(\u001b[39m\"\u001b[39m\u001b[39mignore\u001b[39m\u001b[39m\"\u001b[39m)\n\u001b[0;32m-> 2641\u001b[0m     i \u001b[39m=\u001b[39m \u001b[39mself\u001b[39;49m\u001b[39m.\u001b[39;49margmax(axis, skipna, \u001b[39m*\u001b[39;49margs, \u001b[39m*\u001b[39;49m\u001b[39m*\u001b[39;49mkwargs)\n\u001b[1;32m   2643\u001b[0m \u001b[39mif\u001b[39;00m i \u001b[39m==\u001b[39m \u001b[39m-\u001b[39m\u001b[39m1\u001b[39m:\n\u001b[1;32m   2644\u001b[0m     \u001b[39m# GH#43587 give correct NA value for Index.\u001b[39;00m\n\u001b[1;32m   2645\u001b[0m     warnings\u001b[39m.\u001b[39mwarn(\n\u001b[1;32m   2646\u001b[0m         \u001b[39mf\u001b[39m\u001b[39m\"\u001b[39m\u001b[39mThe behavior of \u001b[39m\u001b[39m{\u001b[39;00m\u001b[39mtype\u001b[39m(\u001b[39mself\u001b[39m)\u001b[39m.\u001b[39m\u001b[39m__name__\u001b[39m\u001b[39m}\u001b[39;00m\u001b[39m.idxmax with all-NA \u001b[39m\u001b[39m\"\u001b[39m\n\u001b[1;32m   2647\u001b[0m         \u001b[39m\"\u001b[39m\u001b[39mvalues, or any-NA and skipna=False, is deprecated. In a future \u001b[39m\u001b[39m\"\u001b[39m\n\u001b[0;32m   (...)\u001b[0m\n\u001b[1;32m   2650\u001b[0m         stacklevel\u001b[39m=\u001b[39mfind_stack_level(),\n\u001b[1;32m   2651\u001b[0m     )\n",
      "File \u001b[0;32m~/Machinelearning/TDT4173/data/sigmoidwarriors/lib/python3.10/site-packages/pandas/core/base.py:751\u001b[0m, in \u001b[0;36mIndexOpsMixin.argmax\u001b[0;34m(self, axis, skipna, *args, **kwargs)\u001b[0m\n\u001b[1;32m    749\u001b[0m         \u001b[39mreturn\u001b[39;00m delegate\u001b[39m.\u001b[39margmax()\n\u001b[1;32m    750\u001b[0m \u001b[39melse\u001b[39;00m:\n\u001b[0;32m--> 751\u001b[0m     result \u001b[39m=\u001b[39m nanops\u001b[39m.\u001b[39;49mnanargmax(delegate, skipna\u001b[39m=\u001b[39;49mskipna)\n\u001b[1;32m    752\u001b[0m     \u001b[39mif\u001b[39;00m result \u001b[39m==\u001b[39m \u001b[39m-\u001b[39m\u001b[39m1\u001b[39m:\n\u001b[1;32m    753\u001b[0m         warnings\u001b[39m.\u001b[39mwarn(\n\u001b[1;32m    754\u001b[0m             \u001b[39mf\u001b[39m\u001b[39m\"\u001b[39m\u001b[39mThe behavior of \u001b[39m\u001b[39m{\u001b[39;00m\u001b[39mtype\u001b[39m(\u001b[39mself\u001b[39m)\u001b[39m.\u001b[39m\u001b[39m__name__\u001b[39m\u001b[39m}\u001b[39;00m\u001b[39m.argmax/argmin \u001b[39m\u001b[39m\"\u001b[39m\n\u001b[1;32m    755\u001b[0m             \u001b[39m\"\u001b[39m\u001b[39mwith skipna=False and NAs, or with all-NAs is deprecated. \u001b[39m\u001b[39m\"\u001b[39m\n\u001b[0;32m   (...)\u001b[0m\n\u001b[1;32m    758\u001b[0m             stacklevel\u001b[39m=\u001b[39mfind_stack_level(),\n\u001b[1;32m    759\u001b[0m         )\n",
      "File \u001b[0;32m~/Machinelearning/TDT4173/data/sigmoidwarriors/lib/python3.10/site-packages/pandas/core/nanops.py:1143\u001b[0m, in \u001b[0;36mnanargmax\u001b[0;34m(values, axis, skipna, mask)\u001b[0m\n\u001b[1;32m   1141\u001b[0m values, mask \u001b[39m=\u001b[39m _get_values(values, \u001b[39mTrue\u001b[39;00m, fill_value_typ\u001b[39m=\u001b[39m\u001b[39m\"\u001b[39m\u001b[39m-inf\u001b[39m\u001b[39m\"\u001b[39m, mask\u001b[39m=\u001b[39mmask)\n\u001b[1;32m   1142\u001b[0m \u001b[39m# error: Need type annotation for 'result'\u001b[39;00m\n\u001b[0;32m-> 1143\u001b[0m result \u001b[39m=\u001b[39m values\u001b[39m.\u001b[39;49margmax(axis)  \u001b[39m# type: ignore[var-annotated]\u001b[39;00m\n\u001b[1;32m   1144\u001b[0m result \u001b[39m=\u001b[39m _maybe_arg_null_out(result, axis, mask, skipna)\n\u001b[1;32m   1145\u001b[0m \u001b[39mreturn\u001b[39;00m result\n",
      "\u001b[0;31mValueError\u001b[0m: attempt to get argmax of an empty sequence"
     ]
    }
   ],
   "source": [
    "X_train_estimated_a = add_distance_to_solar_noon(X_train_estimated_a)\n",
    "X_train_estimated_a.shape"
   ]
  },
  {
   "cell_type": "code",
   "execution_count": null,
   "metadata": {},
   "outputs": [],
   "source": []
  }
 ],
 "metadata": {
  "kernelspec": {
   "display_name": "sigmoidwarriors",
   "language": "python",
   "name": "sigmoidwarriors"
  },
  "language_info": {
   "codemirror_mode": {
    "name": "ipython",
    "version": 3
   },
   "file_extension": ".py",
   "mimetype": "text/x-python",
   "name": "python",
   "nbconvert_exporter": "python",
   "pygments_lexer": "ipython3",
   "version": "3.10.2"
  }
 },
 "nbformat": 4,
 "nbformat_minor": 2
}
