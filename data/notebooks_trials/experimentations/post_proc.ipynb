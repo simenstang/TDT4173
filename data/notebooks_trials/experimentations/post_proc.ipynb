{
 "cells": [
  {
   "cell_type": "code",
   "execution_count": 84,
   "metadata": {},
   "outputs": [],
   "source": [
    "import pandas as pd"
   ]
  },
  {
   "cell_type": "code",
   "execution_count": 85,
   "metadata": {},
   "outputs": [],
   "source": [
    "predictions = pd.read_csv('weighted_predictions_2.csv')"
   ]
  },
  {
   "cell_type": "code",
   "execution_count": 86,
   "metadata": {},
   "outputs": [],
   "source": [
    "test_sub = pd.read_csv('../../test.csv')\n",
    "valid_dates = pd.to_datetime(test_sub['time'].unique())"
   ]
  },
  {
   "cell_type": "code",
   "execution_count": 87,
   "metadata": {},
   "outputs": [
    {
     "data": {
      "text/html": [
       "<div>\n",
       "<style scoped>\n",
       "    .dataframe tbody tr th:only-of-type {\n",
       "        vertical-align: middle;\n",
       "    }\n",
       "\n",
       "    .dataframe tbody tr th {\n",
       "        vertical-align: top;\n",
       "    }\n",
       "\n",
       "    .dataframe thead th {\n",
       "        text-align: right;\n",
       "    }\n",
       "</style>\n",
       "<table border=\"1\" class=\"dataframe\">\n",
       "  <thead>\n",
       "    <tr style=\"text-align: right;\">\n",
       "      <th></th>\n",
       "      <th>id_x</th>\n",
       "      <th>time</th>\n",
       "      <th>prediction_x</th>\n",
       "      <th>location</th>\n",
       "      <th>id_y</th>\n",
       "      <th>prediction_y</th>\n",
       "    </tr>\n",
       "  </thead>\n",
       "  <tbody>\n",
       "    <tr>\n",
       "      <th>0</th>\n",
       "      <td>0</td>\n",
       "      <td>2023-05-01 00:00:00</td>\n",
       "      <td>0</td>\n",
       "      <td>A</td>\n",
       "      <td>0</td>\n",
       "      <td>2.215442</td>\n",
       "    </tr>\n",
       "    <tr>\n",
       "      <th>1</th>\n",
       "      <td>1</td>\n",
       "      <td>2023-05-01 01:00:00</td>\n",
       "      <td>0</td>\n",
       "      <td>A</td>\n",
       "      <td>1</td>\n",
       "      <td>2.491941</td>\n",
       "    </tr>\n",
       "    <tr>\n",
       "      <th>2</th>\n",
       "      <td>2</td>\n",
       "      <td>2023-05-01 02:00:00</td>\n",
       "      <td>0</td>\n",
       "      <td>A</td>\n",
       "      <td>2</td>\n",
       "      <td>2.341206</td>\n",
       "    </tr>\n",
       "    <tr>\n",
       "      <th>3</th>\n",
       "      <td>3</td>\n",
       "      <td>2023-05-01 03:00:00</td>\n",
       "      <td>0</td>\n",
       "      <td>A</td>\n",
       "      <td>3</td>\n",
       "      <td>62.535159</td>\n",
       "    </tr>\n",
       "    <tr>\n",
       "      <th>4</th>\n",
       "      <td>4</td>\n",
       "      <td>2023-05-01 04:00:00</td>\n",
       "      <td>0</td>\n",
       "      <td>A</td>\n",
       "      <td>4</td>\n",
       "      <td>369.899942</td>\n",
       "    </tr>\n",
       "  </tbody>\n",
       "</table>\n",
       "</div>"
      ],
      "text/plain": [
       "   id_x                 time  prediction_x location  id_y  prediction_y\n",
       "0     0  2023-05-01 00:00:00             0        A     0      2.215442\n",
       "1     1  2023-05-01 01:00:00             0        A     1      2.491941\n",
       "2     2  2023-05-01 02:00:00             0        A     2      2.341206\n",
       "3     3  2023-05-01 03:00:00             0        A     3     62.535159\n",
       "4     4  2023-05-01 04:00:00             0        A     4    369.899942"
      ]
     },
     "execution_count": 87,
     "metadata": {},
     "output_type": "execute_result"
    }
   ],
   "source": [
    "merged_df = test_sub.merge(predictions, left_index=True, right_index=True)\n",
    "merged_df.head()"
   ]
  },
  {
   "cell_type": "code",
   "execution_count": 88,
   "metadata": {},
   "outputs": [],
   "source": [
    "merged_df.rename(columns={'prediction_y': 'prediction'}, inplace=True)\n",
    "merged_df.rename(columns={'time': 'date_forecast'}, inplace=True)"
   ]
  },
  {
   "cell_type": "code",
   "execution_count": 89,
   "metadata": {},
   "outputs": [],
   "source": [
    "predictions = merged_df"
   ]
  },
  {
   "cell_type": "code",
   "execution_count": 90,
   "metadata": {},
   "outputs": [],
   "source": [
    "predictions['date_forecast'] = pd.to_datetime(predictions['date_forecast'])"
   ]
  },
  {
   "cell_type": "code",
   "execution_count": 91,
   "metadata": {},
   "outputs": [],
   "source": [
    "loc_a = predictions.iloc[:len(predictions)//3]\n",
    "loc_b = predictions.iloc[len(predictions)//3:2*len(predictions)//3]\n",
    "loc_c = predictions.iloc[2*len(predictions)//3:]"
   ]
  },
  {
   "cell_type": "code",
   "execution_count": 92,
   "metadata": {},
   "outputs": [],
   "source": [
    "from pandas import Timestamp\n",
    "\n",
    "valid_dates = [Timestamp('2023-05-01 00:00:00'), Timestamp('2023-05-01 01:00:00'), Timestamp('2023-05-01 02:00:00'), Timestamp('2023-05-01 20:00:00'), Timestamp('2023-05-01 21:00:00'), Timestamp('2023-05-01 22:00:00'), Timestamp('2023-05-01 23:00:00'), Timestamp('2023-05-06 00:00:00'), Timestamp('2023-05-06 01:00:00'), Timestamp('2023-05-06 02:00:00'), Timestamp('2023-05-06 20:00:00'), Timestamp('2023-05-06 21:00:00'), Timestamp('2023-05-06 22:00:00'), Timestamp('2023-05-06 23:00:00'), Timestamp('2023-05-14 00:00:00'), Timestamp('2023-05-14 01:00:00'), Timestamp('2023-05-14 21:00:00'), Timestamp('2023-05-14 22:00:00'), Timestamp('2023-05-14 23:00:00'), Timestamp('2023-05-18 00:00:00'), Timestamp('2023-05-18 01:00:00'), Timestamp('2023-05-18 21:00:00'), Timestamp('2023-05-18 22:00:00'), Timestamp('2023-05-18 23:00:00'), Timestamp('2023-05-20 00:00:00'), Timestamp('2023-05-20 01:00:00'), Timestamp('2023-05-20 21:00:00'), Timestamp('2023-05-20 22:00:00'), Timestamp('2023-05-20 23:00:00'), Timestamp('2023-05-21 00:00:00'), Timestamp('2023-05-21 01:00:00'), Timestamp('2023-05-21 21:00:00'), Timestamp('2023-05-21 22:00:00'), Timestamp('2023-05-21 23:00:00'), Timestamp('2023-05-22 00:00:00'), Timestamp('2023-05-22 01:00:00'), Timestamp('2023-05-22 21:00:00'), Timestamp('2023-05-22 22:00:00'), Timestamp('2023-05-22 23:00:00'), Timestamp('2023-05-23 00:00:00'), Timestamp('2023-05-23 01:00:00'), Timestamp('2023-05-23 21:00:00'), Timestamp('2023-05-23 22:00:00'), Timestamp('2023-05-23 23:00:00'), Timestamp('2023-05-25 00:00:00'), Timestamp('2023-05-25 01:00:00'), Timestamp('2023-05-25 21:00:00'), Timestamp('2023-05-25 22:00:00'), Timestamp('2023-05-25 23:00:00'), Timestamp('2023-05-27 00:00:00'), Timestamp('2023-05-27 01:00:00'), Timestamp('2023-05-27 21:00:00'), Timestamp('2023-05-27 22:00:00'), Timestamp('2023-05-27 23:00:00'), Timestamp('2023-05-28 00:00:00'), Timestamp('2023-05-28 01:00:00'), Timestamp('2023-05-28 21:00:00'), Timestamp('2023-05-28 22:00:00'), Timestamp('2023-05-28 23:00:00'), Timestamp('2023-05-30 00:00:00'), Timestamp('2023-05-30 01:00:00'), Timestamp('2023-05-30 21:00:00'), Timestamp('2023-05-30 22:00:00'), Timestamp('2023-05-30 23:00:00'), Timestamp('2023-06-01 00:00:00'), Timestamp('2023-06-01 21:00:00'), Timestamp('2023-06-01 22:00:00'), Timestamp('2023-06-01 23:00:00'), Timestamp('2023-06-02 00:00:00'), Timestamp('2023-06-02 21:00:00'), Timestamp('2023-06-02 22:00:00'), Timestamp('2023-06-02 23:00:00'), Timestamp('2023-06-03 00:00:00'), Timestamp('2023-06-03 21:00:00'), Timestamp('2023-06-03 22:00:00'), Timestamp('2023-06-03 23:00:00'), Timestamp('2023-06-04 00:00:00'), Timestamp('2023-06-04 21:00:00'), Timestamp('2023-06-04 22:00:00'), Timestamp('2023-06-04 23:00:00'), Timestamp('2023-06-06 00:00:00'), Timestamp('2023-06-06 22:00:00'), Timestamp('2023-06-06 23:00:00'), Timestamp('2023-06-09 00:00:00'), Timestamp('2023-06-09 22:00:00'), Timestamp('2023-06-09 23:00:00'), Timestamp('2023-06-11 00:00:00'), Timestamp('2023-06-11 22:00:00'), Timestamp('2023-06-11 23:00:00'), Timestamp('2023-06-13 00:00:00'), Timestamp('2023-06-13 22:00:00'), Timestamp('2023-06-13 23:00:00'), Timestamp('2023-06-14 00:00:00'), Timestamp('2023-06-14 22:00:00'), Timestamp('2023-06-14 23:00:00'), Timestamp('2023-06-18 00:00:00'), Timestamp('2023-06-18 22:00:00'), Timestamp('2023-06-18 23:00:00'), Timestamp('2023-06-19 00:00:00'), Timestamp('2023-06-19 22:00:00'), Timestamp('2023-06-19 23:00:00'), Timestamp('2023-06-22 00:00:00'), Timestamp('2023-06-22 22:00:00'), Timestamp('2023-06-22 23:00:00'), Timestamp('2023-06-26 00:00:00'), Timestamp('2023-06-26 22:00:00'), Timestamp('2023-06-26 23:00:00'), Timestamp('2023-06-28 00:00:00'), Timestamp('2023-06-28 22:00:00'), Timestamp('2023-06-28 23:00:00'), Timestamp('2023-06-29 00:00:00'), Timestamp('2023-06-29 22:00:00'), Timestamp('2023-06-29 23:00:00'), Timestamp('2023-06-30 00:00:00'), Timestamp('2023-06-30 22:00:00'), Timestamp('2023-06-30 23:00:00'), Timestamp('2023-07-02 00:00:00'), Timestamp('2023-07-02 22:00:00'), Timestamp('2023-07-02 23:00:00'), Timestamp('2023-07-03 00:00:00'), Timestamp('2023-07-03 22:00:00'), Timestamp('2023-07-03 23:00:00')]\n"
   ]
  },
  {
   "cell_type": "code",
   "execution_count": 93,
   "metadata": {},
   "outputs": [],
   "source": [
    "valid_dates_df = pd.DataFrame(valid_dates, columns=['date_forecast'])\n",
    "\n",
    "loc_a.loc[loc_a['date_forecast'].isin(valid_dates), 'prediction'] = 0\n",
    "\n",
    "loc_b.loc[loc_b['date_forecast'].isin(valid_dates), 'prediction'] = 0\n",
    "\n",
    "loc_c.loc[loc_c['date_forecast'].isin(valid_dates), 'prediction'] = 0"
   ]
  },
  {
   "cell_type": "code",
   "execution_count": 94,
   "metadata": {},
   "outputs": [],
   "source": [
    "predictions = pd.concat([loc_a, loc_b, loc_c])"
   ]
  },
  {
   "cell_type": "code",
   "execution_count": 95,
   "metadata": {},
   "outputs": [
    {
     "data": {
      "text/html": [
       "<div>\n",
       "<style scoped>\n",
       "    .dataframe tbody tr th:only-of-type {\n",
       "        vertical-align: middle;\n",
       "    }\n",
       "\n",
       "    .dataframe tbody tr th {\n",
       "        vertical-align: top;\n",
       "    }\n",
       "\n",
       "    .dataframe thead th {\n",
       "        text-align: right;\n",
       "    }\n",
       "</style>\n",
       "<table border=\"1\" class=\"dataframe\">\n",
       "  <thead>\n",
       "    <tr style=\"text-align: right;\">\n",
       "      <th></th>\n",
       "      <th>id_x</th>\n",
       "      <th>date_forecast</th>\n",
       "      <th>prediction_x</th>\n",
       "      <th>location</th>\n",
       "      <th>id_y</th>\n",
       "      <th>prediction</th>\n",
       "    </tr>\n",
       "  </thead>\n",
       "  <tbody>\n",
       "    <tr>\n",
       "      <th>0</th>\n",
       "      <td>0</td>\n",
       "      <td>2023-05-01 00:00:00</td>\n",
       "      <td>0</td>\n",
       "      <td>A</td>\n",
       "      <td>0</td>\n",
       "      <td>0.000000</td>\n",
       "    </tr>\n",
       "    <tr>\n",
       "      <th>1</th>\n",
       "      <td>1</td>\n",
       "      <td>2023-05-01 01:00:00</td>\n",
       "      <td>0</td>\n",
       "      <td>A</td>\n",
       "      <td>1</td>\n",
       "      <td>0.000000</td>\n",
       "    </tr>\n",
       "    <tr>\n",
       "      <th>2</th>\n",
       "      <td>2</td>\n",
       "      <td>2023-05-01 02:00:00</td>\n",
       "      <td>0</td>\n",
       "      <td>A</td>\n",
       "      <td>2</td>\n",
       "      <td>0.000000</td>\n",
       "    </tr>\n",
       "    <tr>\n",
       "      <th>3</th>\n",
       "      <td>3</td>\n",
       "      <td>2023-05-01 03:00:00</td>\n",
       "      <td>0</td>\n",
       "      <td>A</td>\n",
       "      <td>3</td>\n",
       "      <td>62.535159</td>\n",
       "    </tr>\n",
       "    <tr>\n",
       "      <th>4</th>\n",
       "      <td>4</td>\n",
       "      <td>2023-05-01 04:00:00</td>\n",
       "      <td>0</td>\n",
       "      <td>A</td>\n",
       "      <td>4</td>\n",
       "      <td>369.899942</td>\n",
       "    </tr>\n",
       "    <tr>\n",
       "      <th>5</th>\n",
       "      <td>5</td>\n",
       "      <td>2023-05-01 05:00:00</td>\n",
       "      <td>0</td>\n",
       "      <td>A</td>\n",
       "      <td>5</td>\n",
       "      <td>886.981422</td>\n",
       "    </tr>\n",
       "    <tr>\n",
       "      <th>6</th>\n",
       "      <td>6</td>\n",
       "      <td>2023-05-01 06:00:00</td>\n",
       "      <td>0</td>\n",
       "      <td>A</td>\n",
       "      <td>6</td>\n",
       "      <td>1724.157524</td>\n",
       "    </tr>\n",
       "    <tr>\n",
       "      <th>7</th>\n",
       "      <td>7</td>\n",
       "      <td>2023-05-01 07:00:00</td>\n",
       "      <td>0</td>\n",
       "      <td>A</td>\n",
       "      <td>7</td>\n",
       "      <td>2947.255576</td>\n",
       "    </tr>\n",
       "    <tr>\n",
       "      <th>8</th>\n",
       "      <td>8</td>\n",
       "      <td>2023-05-01 08:00:00</td>\n",
       "      <td>0</td>\n",
       "      <td>A</td>\n",
       "      <td>8</td>\n",
       "      <td>3079.617317</td>\n",
       "    </tr>\n",
       "    <tr>\n",
       "      <th>9</th>\n",
       "      <td>9</td>\n",
       "      <td>2023-05-01 09:00:00</td>\n",
       "      <td>0</td>\n",
       "      <td>A</td>\n",
       "      <td>9</td>\n",
       "      <td>3226.726525</td>\n",
       "    </tr>\n",
       "  </tbody>\n",
       "</table>\n",
       "</div>"
      ],
      "text/plain": [
       "   id_x       date_forecast  prediction_x location  id_y   prediction\n",
       "0     0 2023-05-01 00:00:00             0        A     0     0.000000\n",
       "1     1 2023-05-01 01:00:00             0        A     1     0.000000\n",
       "2     2 2023-05-01 02:00:00             0        A     2     0.000000\n",
       "3     3 2023-05-01 03:00:00             0        A     3    62.535159\n",
       "4     4 2023-05-01 04:00:00             0        A     4   369.899942\n",
       "5     5 2023-05-01 05:00:00             0        A     5   886.981422\n",
       "6     6 2023-05-01 06:00:00             0        A     6  1724.157524\n",
       "7     7 2023-05-01 07:00:00             0        A     7  2947.255576\n",
       "8     8 2023-05-01 08:00:00             0        A     8  3079.617317\n",
       "9     9 2023-05-01 09:00:00             0        A     9  3226.726525"
      ]
     },
     "execution_count": 95,
     "metadata": {},
     "output_type": "execute_result"
    }
   ],
   "source": [
    "predictions.head(10)"
   ]
  },
  {
   "cell_type": "code",
   "execution_count": 96,
   "metadata": {},
   "outputs": [
    {
     "data": {
      "text/html": [
       "<div>\n",
       "<style scoped>\n",
       "    .dataframe tbody tr th:only-of-type {\n",
       "        vertical-align: middle;\n",
       "    }\n",
       "\n",
       "    .dataframe tbody tr th {\n",
       "        vertical-align: top;\n",
       "    }\n",
       "\n",
       "    .dataframe thead th {\n",
       "        text-align: right;\n",
       "    }\n",
       "</style>\n",
       "<table border=\"1\" class=\"dataframe\">\n",
       "  <thead>\n",
       "    <tr style=\"text-align: right;\">\n",
       "      <th></th>\n",
       "      <th>prediction</th>\n",
       "    </tr>\n",
       "  </thead>\n",
       "  <tbody>\n",
       "    <tr>\n",
       "      <th>0</th>\n",
       "      <td>0.000000</td>\n",
       "    </tr>\n",
       "    <tr>\n",
       "      <th>1</th>\n",
       "      <td>0.000000</td>\n",
       "    </tr>\n",
       "    <tr>\n",
       "      <th>2</th>\n",
       "      <td>0.000000</td>\n",
       "    </tr>\n",
       "    <tr>\n",
       "      <th>3</th>\n",
       "      <td>62.535159</td>\n",
       "    </tr>\n",
       "    <tr>\n",
       "      <th>4</th>\n",
       "      <td>369.899942</td>\n",
       "    </tr>\n",
       "  </tbody>\n",
       "</table>\n",
       "</div>"
      ],
      "text/plain": [
       "   prediction\n",
       "0    0.000000\n",
       "1    0.000000\n",
       "2    0.000000\n",
       "3   62.535159\n",
       "4  369.899942"
      ]
     },
     "execution_count": 96,
     "metadata": {},
     "output_type": "execute_result"
    }
   ],
   "source": [
    "predictions.drop(['date_forecast', 'id_x', 'prediction_x', 'location', 'id_y'], axis=1, inplace=True)\n",
    "predictions.head()"
   ]
  },
  {
   "cell_type": "code",
   "execution_count": 97,
   "metadata": {},
   "outputs": [],
   "source": [
    "predictions.reset_index(drop=True, inplace=True)"
   ]
  },
  {
   "cell_type": "code",
   "execution_count": 98,
   "metadata": {},
   "outputs": [],
   "source": [
    "predictions.to_csv('predictions_1.csv', index=True, index_label='id')"
   ]
  },
  {
   "cell_type": "code",
   "execution_count": null,
   "metadata": {},
   "outputs": [],
   "source": []
  }
 ],
 "metadata": {
  "kernelspec": {
   "display_name": "sigmoidwarriors",
   "language": "python",
   "name": "sigmoidwarriors"
  },
  "language_info": {
   "codemirror_mode": {
    "name": "ipython",
    "version": 3
   },
   "file_extension": ".py",
   "mimetype": "text/x-python",
   "name": "python",
   "nbconvert_exporter": "python",
   "pygments_lexer": "ipython3",
   "version": "3.10.2"
  }
 },
 "nbformat": 4,
 "nbformat_minor": 2
}
