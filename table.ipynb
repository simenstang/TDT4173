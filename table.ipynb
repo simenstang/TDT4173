{
 "cells": [
  {
   "cell_type": "code",
   "execution_count": 72,
   "metadata": {},
   "outputs": [],
   "source": [
    "from IPython.display import display\n",
    "import pandas as pd\n",
    "\n",
    "descriptions = [\n",
    "    '15-min interval dates',\n",
    "    '2m humidity',\n",
    "    '2m air density',\n",
    "    'Low cloud height (half-sky)',\n",
    "    'Hourly clear sky energy (J/m2)',\n",
    "    'Clear sky radiation (W/m2 now)',\n",
    "    'Visible cloud base height',\n",
    "    'Dew or rime? (0: none, 1: dew, -1: rime)',\n",
    "    '2m dew point (K)',\n",
    "    'Diffuse radiation (W/m2 now)',\n",
    "    'Diffuse radiation past hour (J/m2)',\n",
    "    'Direct radiation (W/m2 now)',\n",
    "    'Direct radiation past hour (J/m2)',\n",
    "    'Mixed cloud cover (%)',\n",
    "    'Source height (m above sea)',\n",
    "    'Snow last 12 hours (cm)',\n",
    "    'Snow last 1 hour (cm)',\n",
    "    'Snow last 24 hours (cm)',\n",
    "    'Snow last 3 hours (cm)',\n",
    "    'Snow last 6 hours (cm)',\n",
    "    'Sun up? (1=yes)',\n",
    "    'In shadow? (1=yes)',\n",
    "    'Pressure at sea level',\n",
    "    'Rain/snow last 5 mins (mm)',\n",
    "    'Rain type (0-6: None, Rain, Mix, Snow, Fleet, Freeze rain, Hail)',\n",
    "    'Pressure at 100m up',\n",
    "    'Pressure at 50m up',\n",
    "    'Rime chance (%)',\n",
    "    '',\n",
    "    'Humidity (%)',\n",
    "    'Ground pressure (hPa)',\n",
    "    'Snow weight (kg/m3)',\n",
    "    'Snow depth (cm)',\n",
    "    'Snow blown about? (0-6 index)',\n",
    "    'Melted snow last 10 mins (mm)',\n",
    "    '',\n",
    "    'Sun direction angle (degrees)',\n",
    "    'Sun height angle',\n",
    "    'Supercool water? (liquid below freezing)',\n",
    "    'Temp up there',\n",
    "    'Cloudiness (%)',\n",
    "    'Can see how far? (<1km=foggy)',\n",
    "    'Wind speed up there',\n",
    "    'West-East wind part',\n",
    "    'South-North wind part',\n",
    "    'Up-down wind part',\n",
    "]\n",
    "\n",
    "data = {\n",
    "    'feature_name' : pd.read_parquet('data/A/X_train_observed.parquet', engine='pyarrow').columns.tolist(),\n",
    "    'description' : descriptions\n",
    "}\n",
    "\n",
    "df = pd.DataFrame(data)"
   ]
  },
  {
   "cell_type": "code",
   "execution_count": 82,
   "metadata": {},
   "outputs": [
    {
     "name": "stdout",
     "output_type": "stream",
     "text": [
      "corr_A_estimated\n",
      "corr_A_observed\n",
      "corr_B_estimated\n",
      "corr_B_observed\n",
      "corr_C_estimated\n",
      "corr_C_observed\n"
     ]
    }
   ],
   "source": [
    "filepaths = [\n",
    "    'data/A/sorted_feature_correlations_A_estimated.csv',\n",
    "    'data/A/sorted_feature_correlations_A_observed.csv',\n",
    "    'data/B/sorted_feature_correlations_B_estimated.csv',\n",
    "    'data/B/sorted_feature_correlations_B_observed.csv',\n",
    "    'data/C/sorted_feature_correlations_C_estimated.csv',\n",
    "    'data/C/sorted_feature_correlations_C_observed.csv'\n",
    "]\n",
    "\n",
    "\n",
    "for filepath in filepaths:\n",
    "    df_temp = pd.read_csv(filepath)\n",
    "    avg_correlation = df_temp.groupby('Feature')['Correlation'].mean().reset_index()\n",
    "    col_name = 'corr_' + filepath.split('/sorted_feature_correlations_')[1].split('.csv')[0]\n",
    "    df[col_name] = avg_correlation['Correlation']\n",
    "\n",
    "    \n"
   ]
  },
  {
   "cell_type": "code",
   "execution_count": null,
   "metadata": {},
   "outputs": [],
   "source": []
  }
 ],
 "metadata": {
  "kernelspec": {
   "display_name": "sigmoidwarriors",
   "language": "python",
   "name": "sigmoidwarriors"
  },
  "language_info": {
   "codemirror_mode": {
    "name": "ipython",
    "version": 3
   },
   "file_extension": ".py",
   "mimetype": "text/x-python",
   "name": "python",
   "nbconvert_exporter": "python",
   "pygments_lexer": "ipython3",
   "version": "3.8.8"
  },
  "orig_nbformat": 4
 },
 "nbformat": 4,
 "nbformat_minor": 2
}
